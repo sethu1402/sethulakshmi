{
 "cells": [
  {
   "cell_type": "code",
   "execution_count": 1,
   "id": "24ac16d3",
   "metadata": {},
   "outputs": [],
   "source": [
    "#necessory imports\n",
    "import numpy as np\n",
    "import pandas as pd\n",
    "import matplotlib.pyplot as plt\n",
    "import seaborn as sns"
   ]
  },
  {
   "cell_type": "code",
   "execution_count": 2,
   "id": "06e4e27e",
   "metadata": {},
   "outputs": [
    {
     "data": {
      "text/html": [
       "<div>\n",
       "<style scoped>\n",
       "    .dataframe tbody tr th:only-of-type {\n",
       "        vertical-align: middle;\n",
       "    }\n",
       "\n",
       "    .dataframe tbody tr th {\n",
       "        vertical-align: top;\n",
       "    }\n",
       "\n",
       "    .dataframe thead th {\n",
       "        text-align: right;\n",
       "    }\n",
       "</style>\n",
       "<table border=\"1\" class=\"dataframe\">\n",
       "  <thead>\n",
       "    <tr style=\"text-align: right;\">\n",
       "      <th></th>\n",
       "      <th>Age</th>\n",
       "      <th>Employment Type</th>\n",
       "      <th>GraduateOrNot</th>\n",
       "      <th>AnnualIncome</th>\n",
       "      <th>FamilyMembers</th>\n",
       "      <th>ChronicDiseases</th>\n",
       "      <th>FrequentFlyer</th>\n",
       "      <th>EverTravelledAbroad</th>\n",
       "      <th>Gender</th>\n",
       "      <th>OwnCar</th>\n",
       "      <th>MaritalStatus</th>\n",
       "      <th>TravelInsurance</th>\n",
       "    </tr>\n",
       "    <tr>\n",
       "      <th>index</th>\n",
       "      <th></th>\n",
       "      <th></th>\n",
       "      <th></th>\n",
       "      <th></th>\n",
       "      <th></th>\n",
       "      <th></th>\n",
       "      <th></th>\n",
       "      <th></th>\n",
       "      <th></th>\n",
       "      <th></th>\n",
       "      <th></th>\n",
       "      <th></th>\n",
       "    </tr>\n",
       "  </thead>\n",
       "  <tbody>\n",
       "    <tr>\n",
       "      <th>1</th>\n",
       "      <td>31</td>\n",
       "      <td>Government Sector</td>\n",
       "      <td>Yes</td>\n",
       "      <td>400000</td>\n",
       "      <td>6</td>\n",
       "      <td>1</td>\n",
       "      <td>No</td>\n",
       "      <td>No</td>\n",
       "      <td>Female</td>\n",
       "      <td>1</td>\n",
       "      <td>Single</td>\n",
       "      <td>0</td>\n",
       "    </tr>\n",
       "    <tr>\n",
       "      <th>2</th>\n",
       "      <td>31</td>\n",
       "      <td>Private Sector/Self Employed</td>\n",
       "      <td>Yes</td>\n",
       "      <td>1250000</td>\n",
       "      <td>7</td>\n",
       "      <td>0</td>\n",
       "      <td>No</td>\n",
       "      <td>No</td>\n",
       "      <td>Male</td>\n",
       "      <td>1</td>\n",
       "      <td>Divorced</td>\n",
       "      <td>0</td>\n",
       "    </tr>\n",
       "    <tr>\n",
       "      <th>3</th>\n",
       "      <td>34</td>\n",
       "      <td>Private Sector/Self Employed</td>\n",
       "      <td>Yes</td>\n",
       "      <td>500000</td>\n",
       "      <td>4</td>\n",
       "      <td>1</td>\n",
       "      <td>No</td>\n",
       "      <td>No</td>\n",
       "      <td>Male</td>\n",
       "      <td>0</td>\n",
       "      <td>Single</td>\n",
       "      <td>1</td>\n",
       "    </tr>\n",
       "    <tr>\n",
       "      <th>4</th>\n",
       "      <td>28</td>\n",
       "      <td>Private Sector/Self Employed</td>\n",
       "      <td>Yes</td>\n",
       "      <td>700000</td>\n",
       "      <td>3</td>\n",
       "      <td>1</td>\n",
       "      <td>No</td>\n",
       "      <td>No</td>\n",
       "      <td>Female</td>\n",
       "      <td>1</td>\n",
       "      <td>Divorced</td>\n",
       "      <td>0</td>\n",
       "    </tr>\n",
       "    <tr>\n",
       "      <th>5</th>\n",
       "      <td>28</td>\n",
       "      <td>Private Sector/Self Employed</td>\n",
       "      <td>Yes</td>\n",
       "      <td>700000</td>\n",
       "      <td>8</td>\n",
       "      <td>1</td>\n",
       "      <td>Yes</td>\n",
       "      <td>No</td>\n",
       "      <td>Male</td>\n",
       "      <td>1</td>\n",
       "      <td>Divorced</td>\n",
       "      <td>0</td>\n",
       "    </tr>\n",
       "  </tbody>\n",
       "</table>\n",
       "</div>"
      ],
      "text/plain": [
       "       Age               Employment Type GraduateOrNot  AnnualIncome  \\\n",
       "index                                                                  \n",
       "1       31             Government Sector           Yes        400000   \n",
       "2       31  Private Sector/Self Employed           Yes       1250000   \n",
       "3       34  Private Sector/Self Employed           Yes        500000   \n",
       "4       28  Private Sector/Self Employed           Yes        700000   \n",
       "5       28  Private Sector/Self Employed           Yes        700000   \n",
       "\n",
       "       FamilyMembers  ChronicDiseases FrequentFlyer EverTravelledAbroad  \\\n",
       "index                                                                     \n",
       "1                  6                1            No                  No   \n",
       "2                  7                0            No                  No   \n",
       "3                  4                1            No                  No   \n",
       "4                  3                1            No                  No   \n",
       "5                  8                1           Yes                  No   \n",
       "\n",
       "       Gender  OwnCar MaritalStatus  TravelInsurance  \n",
       "index                                                 \n",
       "1      Female       1        Single                0  \n",
       "2        Male       1      Divorced                0  \n",
       "3        Male       0        Single                1  \n",
       "4      Female       1      Divorced                0  \n",
       "5        Male       1      Divorced                0  "
      ]
     },
     "execution_count": 2,
     "metadata": {},
     "output_type": "execute_result"
    }
   ],
   "source": [
    "# reading data\n",
    "travel_df = pd.read_excel(r'C:\\Users\\aravindh\\Downloads\\TravelInsurancePrediction.xlsx',index_col='index')\n",
    "travel_df.head()"
   ]
  },
  {
   "cell_type": "code",
   "execution_count": 3,
   "id": "4e614e0a",
   "metadata": {},
   "outputs": [
    {
     "data": {
      "text/plain": [
       "(2148, 12)"
      ]
     },
     "execution_count": 3,
     "metadata": {},
     "output_type": "execute_result"
    }
   ],
   "source": [
    "travel_df.shape"
   ]
  },
  {
   "cell_type": "code",
   "execution_count": 4,
   "id": "4ef740c6",
   "metadata": {},
   "outputs": [
    {
     "data": {
      "text/plain": [
       "Age                    0\n",
       "Employment Type        0\n",
       "GraduateOrNot          0\n",
       "AnnualIncome           0\n",
       "FamilyMembers          0\n",
       "ChronicDiseases        0\n",
       "FrequentFlyer          0\n",
       "EverTravelledAbroad    0\n",
       "Gender                 0\n",
       "OwnCar                 0\n",
       "MaritalStatus          0\n",
       "TravelInsurance        0\n",
       "dtype: int64"
      ]
     },
     "execution_count": 4,
     "metadata": {},
     "output_type": "execute_result"
    }
   ],
   "source": [
    "travel_df.isna().sum()"
   ]
  },
  {
   "cell_type": "code",
   "execution_count": 5,
   "id": "dd4a21c4",
   "metadata": {},
   "outputs": [
    {
     "name": "stdout",
     "output_type": "stream",
     "text": [
      "<class 'pandas.core.frame.DataFrame'>\n",
      "Int64Index: 2148 entries, 1 to 2148\n",
      "Data columns (total 12 columns):\n",
      " #   Column               Non-Null Count  Dtype \n",
      "---  ------               --------------  ----- \n",
      " 0   Age                  2148 non-null   int64 \n",
      " 1   Employment Type      2148 non-null   object\n",
      " 2   GraduateOrNot        2148 non-null   object\n",
      " 3   AnnualIncome         2148 non-null   int64 \n",
      " 4   FamilyMembers        2148 non-null   int64 \n",
      " 5   ChronicDiseases      2148 non-null   int64 \n",
      " 6   FrequentFlyer        2148 non-null   object\n",
      " 7   EverTravelledAbroad  2148 non-null   object\n",
      " 8   Gender               2148 non-null   object\n",
      " 9   OwnCar               2148 non-null   int64 \n",
      " 10  MaritalStatus        2148 non-null   object\n",
      " 11  TravelInsurance      2148 non-null   int64 \n",
      "dtypes: int64(6), object(6)\n",
      "memory usage: 218.2+ KB\n"
     ]
    }
   ],
   "source": [
    "travel_df.info()"
   ]
  },
  {
   "cell_type": "code",
   "execution_count": 6,
   "id": "3ceb7c51",
   "metadata": {},
   "outputs": [
    {
     "data": {
      "text/plain": [
       "0    0.641527\n",
       "1    0.358473\n",
       "Name: TravelInsurance, dtype: float64"
      ]
     },
     "execution_count": 6,
     "metadata": {},
     "output_type": "execute_result"
    }
   ],
   "source": [
    "travel_df['TravelInsurance'].value_counts(normalize = True)"
   ]
  },
  {
   "cell_type": "code",
   "execution_count": 7,
   "id": "3002687b",
   "metadata": {},
   "outputs": [],
   "source": [
    "travel_df.columns = ['age', 'employment_type','graduate_or_not','annual_income','family_members', 'chronic_diseases', \n",
    "                     'frequent_flyer','ever_travelled_abroad', 'gender', 'own_car', 'marital_status','travel_insurance']\n"
   ]
  },
  {
   "cell_type": "code",
   "execution_count": 8,
   "id": "392518df",
   "metadata": {},
   "outputs": [],
   "source": [
    "# travel_df.columns = travel_df.columns.str.replace(' ','_')"
   ]
  },
  {
   "cell_type": "markdown",
   "id": "1c241e67",
   "metadata": {},
   "source": [
    "# Outliers"
   ]
  },
  {
   "cell_type": "code",
   "execution_count": 9,
   "id": "9c0bc280",
   "metadata": {},
   "outputs": [
    {
     "data": {
      "text/plain": [
       "Index(['age', 'employment_type', 'graduate_or_not', 'annual_income',\n",
       "       'family_members', 'chronic_diseases', 'frequent_flyer',\n",
       "       'ever_travelled_abroad', 'gender', 'own_car', 'marital_status',\n",
       "       'travel_insurance'],\n",
       "      dtype='object')"
      ]
     },
     "execution_count": 9,
     "metadata": {},
     "output_type": "execute_result"
    }
   ],
   "source": [
    "travel_df.columns"
   ]
  },
  {
   "cell_type": "code",
   "execution_count": 10,
   "id": "b419c97b",
   "metadata": {},
   "outputs": [
    {
     "data": {
      "text/plain": [
       "<AxesSubplot:ylabel='age'>"
      ]
     },
     "execution_count": 10,
     "metadata": {},
     "output_type": "execute_result"
    },
    {
     "data": {
      "image/png": "[encoded data removed]",
      "text/plain": [
       "<Figure size 432x288 with 1 Axes>"
      ]
     },
     "metadata": {
      "needs_background": "light"
     },
     "output_type": "display_data"
    }
   ],
   "source": [
    "sns.boxplot(y='age',data=travel_df)"
   ]
  },
  {
   "cell_type": "code",
   "execution_count": 11,
   "id": "a428a809",
   "metadata": {},
   "outputs": [
    {
     "data": {
      "text/plain": [
       "<AxesSubplot:ylabel='annual_income'>"
      ]
     },
     "execution_count": 11,
     "metadata": {},
     "output_type": "execute_result"
    },
    {
     "data": {
      "image/png": "[encoded data removed]",
      "text/plain": [
       "<Figure size 432x288 with 1 Axes>"
      ]
     },
     "metadata": {
      "needs_background": "light"
     },
     "output_type": "display_data"
    }
   ],
   "source": [
    "sns.boxplot(y='annual_income',data=travel_df)"
   ]
  },
  {
   "cell_type": "code",
   "execution_count": 12,
   "id": "6d2542f2",
   "metadata": {},
   "outputs": [
    {
     "data": {
      "text/plain": [
       "<AxesSubplot:ylabel='family_members'>"
      ]
     },
     "execution_count": 12,
     "metadata": {},
     "output_type": "execute_result"
    },
    {
     "data": {
      "image/png": "[encoded data removed]",
      "text/plain": [
       "<Figure size 432x288 with 1 Axes>"
      ]
     },
     "metadata": {
      "needs_background": "light"
     },
     "output_type": "display_data"
    }
   ],
   "source": [
    "sns.boxplot(y='family_members',data=travel_df)"
   ]
  },
  {
   "cell_type": "markdown",
   "id": "757497e2",
   "metadata": {},
   "source": [
    "# Encoding"
   ]
  },
  {
   "cell_type": "code",
   "execution_count": 13,
   "id": "e5e2c948",
   "metadata": {},
   "outputs": [
    {
     "data": {
      "text/plain": [
       "Index(['age', 'employment_type', 'graduate_or_not', 'annual_income',\n",
       "       'family_members', 'chronic_diseases', 'frequent_flyer',\n",
       "       'ever_travelled_abroad', 'gender', 'own_car', 'marital_status',\n",
       "       'travel_insurance'],\n",
       "      dtype='object')"
      ]
     },
     "execution_count": 13,
     "metadata": {},
     "output_type": "execute_result"
    }
   ],
   "source": [
    "travel_df.columns"
   ]
  },
  {
   "cell_type": "code",
   "execution_count": 14,
   "id": "2003b405",
   "metadata": {},
   "outputs": [
    {
     "data": {
      "text/plain": [
       "Male      1281\n",
       "Female     867\n",
       "Name: gender, dtype: int64"
      ]
     },
     "execution_count": 14,
     "metadata": {},
     "output_type": "execute_result"
    }
   ],
   "source": [
    "travel_df.gender = travel_df.gender.str.replace('Fe Male','Female')\n",
    "travel_df.gender.value_counts()"
   ]
  },
  {
   "cell_type": "code",
   "execution_count": 15,
   "id": "9696727b",
   "metadata": {},
   "outputs": [],
   "source": [
    "x = travel_df.drop(columns=['travel_insurance'])\n",
    "y = travel_df['travel_insurance']"
   ]
  },
  {
   "cell_type": "code",
   "execution_count": 16,
   "id": "55da8e7b",
   "metadata": {},
   "outputs": [
    {
     "data": {
      "text/html": [
       "<div>\n",
       "<style scoped>\n",
       "    .dataframe tbody tr th:only-of-type {\n",
       "        vertical-align: middle;\n",
       "    }\n",
       "\n",
       "    .dataframe tbody tr th {\n",
       "        vertical-align: top;\n",
       "    }\n",
       "\n",
       "    .dataframe thead th {\n",
       "        text-align: right;\n",
       "    }\n",
       "</style>\n",
       "<table border=\"1\" class=\"dataframe\">\n",
       "  <thead>\n",
       "    <tr style=\"text-align: right;\">\n",
       "      <th></th>\n",
       "      <th>age</th>\n",
       "      <th>employment_type</th>\n",
       "      <th>graduate_or_not</th>\n",
       "      <th>annual_income</th>\n",
       "      <th>family_members</th>\n",
       "      <th>chronic_diseases</th>\n",
       "      <th>frequent_flyer</th>\n",
       "      <th>ever_travelled_abroad</th>\n",
       "      <th>gender</th>\n",
       "      <th>own_car</th>\n",
       "      <th>marital_status</th>\n",
       "    </tr>\n",
       "    <tr>\n",
       "      <th>index</th>\n",
       "      <th></th>\n",
       "      <th></th>\n",
       "      <th></th>\n",
       "      <th></th>\n",
       "      <th></th>\n",
       "      <th></th>\n",
       "      <th></th>\n",
       "      <th></th>\n",
       "      <th></th>\n",
       "      <th></th>\n",
       "      <th></th>\n",
       "    </tr>\n",
       "  </thead>\n",
       "  <tbody>\n",
       "    <tr>\n",
       "      <th>1</th>\n",
       "      <td>31</td>\n",
       "      <td>Government Sector</td>\n",
       "      <td>Yes</td>\n",
       "      <td>400000</td>\n",
       "      <td>6</td>\n",
       "      <td>1</td>\n",
       "      <td>No</td>\n",
       "      <td>No</td>\n",
       "      <td>Female</td>\n",
       "      <td>1</td>\n",
       "      <td>Single</td>\n",
       "    </tr>\n",
       "    <tr>\n",
       "      <th>2</th>\n",
       "      <td>31</td>\n",
       "      <td>Private Sector/Self Employed</td>\n",
       "      <td>Yes</td>\n",
       "      <td>1250000</td>\n",
       "      <td>7</td>\n",
       "      <td>0</td>\n",
       "      <td>No</td>\n",
       "      <td>No</td>\n",
       "      <td>Male</td>\n",
       "      <td>1</td>\n",
       "      <td>Divorced</td>\n",
       "    </tr>\n",
       "    <tr>\n",
       "      <th>3</th>\n",
       "      <td>34</td>\n",
       "      <td>Private Sector/Self Employed</td>\n",
       "      <td>Yes</td>\n",
       "      <td>500000</td>\n",
       "      <td>4</td>\n",
       "      <td>1</td>\n",
       "      <td>No</td>\n",
       "      <td>No</td>\n",
       "      <td>Male</td>\n",
       "      <td>0</td>\n",
       "      <td>Single</td>\n",
       "    </tr>\n",
       "    <tr>\n",
       "      <th>4</th>\n",
       "      <td>28</td>\n",
       "      <td>Private Sector/Self Employed</td>\n",
       "      <td>Yes</td>\n",
       "      <td>700000</td>\n",
       "      <td>3</td>\n",
       "      <td>1</td>\n",
       "      <td>No</td>\n",
       "      <td>No</td>\n",
       "      <td>Female</td>\n",
       "      <td>1</td>\n",
       "      <td>Divorced</td>\n",
       "    </tr>\n",
       "    <tr>\n",
       "      <th>5</th>\n",
       "      <td>28</td>\n",
       "      <td>Private Sector/Self Employed</td>\n",
       "      <td>Yes</td>\n",
       "      <td>700000</td>\n",
       "      <td>8</td>\n",
       "      <td>1</td>\n",
       "      <td>Yes</td>\n",
       "      <td>No</td>\n",
       "      <td>Male</td>\n",
       "      <td>1</td>\n",
       "      <td>Divorced</td>\n",
       "    </tr>\n",
       "  </tbody>\n",
       "</table>\n",
       "</div>"
      ],
      "text/plain": [
       "       age               employment_type graduate_or_not  annual_income  \\\n",
       "index                                                                     \n",
       "1       31             Government Sector             Yes         400000   \n",
       "2       31  Private Sector/Self Employed             Yes        1250000   \n",
       "3       34  Private Sector/Self Employed             Yes         500000   \n",
       "4       28  Private Sector/Self Employed             Yes         700000   \n",
       "5       28  Private Sector/Self Employed             Yes         700000   \n",
       "\n",
       "       family_members  chronic_diseases frequent_flyer ever_travelled_abroad  \\\n",
       "index                                                                          \n",
       "1                   6                 1             No                    No   \n",
       "2                   7                 0             No                    No   \n",
       "3                   4                 1             No                    No   \n",
       "4                   3                 1             No                    No   \n",
       "5                   8                 1            Yes                    No   \n",
       "\n",
       "       gender  own_car marital_status  \n",
       "index                                  \n",
       "1      Female        1         Single  \n",
       "2        Male        1       Divorced  \n",
       "3        Male        0         Single  \n",
       "4      Female        1       Divorced  \n",
       "5        Male        1       Divorced  "
      ]
     },
     "execution_count": 16,
     "metadata": {},
     "output_type": "execute_result"
    }
   ],
   "source": [
    "x.head()"
   ]
  },
  {
   "cell_type": "code",
   "execution_count": 17,
   "id": "1b101bcf",
   "metadata": {},
   "outputs": [
    {
     "data": {
      "text/plain": [
       "index\n",
       "1    0\n",
       "2    0\n",
       "3    1\n",
       "4    0\n",
       "5    0\n",
       "Name: travel_insurance, dtype: int64"
      ]
     },
     "execution_count": 17,
     "metadata": {},
     "output_type": "execute_result"
    }
   ],
   "source": [
    "y.head()"
   ]
  },
  {
   "cell_type": "code",
   "execution_count": 18,
   "id": "ab5fe0be",
   "metadata": {},
   "outputs": [],
   "source": [
    "from sklearn.preprocessing import LabelEncoder\n",
    "le = LabelEncoder()"
   ]
  },
  {
   "cell_type": "code",
   "execution_count": 19,
   "id": "2c267893",
   "metadata": {},
   "outputs": [
    {
     "data": {
      "text/plain": [
       "Male      1281\n",
       "Female     867\n",
       "Name: gender, dtype: int64"
      ]
     },
     "execution_count": 19,
     "metadata": {},
     "output_type": "execute_result"
    }
   ],
   "source": [
    "x.gender.value_counts()"
   ]
  },
  {
   "cell_type": "code",
   "execution_count": 20,
   "id": "7bb72aca",
   "metadata": {},
   "outputs": [],
   "source": [
    "for item in ['employment_type','graduate_or_not','frequent_flyer','ever_travelled_abroad','gender']:\n",
    "    x[item] = le.fit_transform(x[item])"
   ]
  },
  {
   "cell_type": "code",
   "execution_count": 21,
   "id": "3ee29bb8",
   "metadata": {},
   "outputs": [
    {
     "data": {
      "text/html": [
       "<div>\n",
       "<style scoped>\n",
       "    .dataframe tbody tr th:only-of-type {\n",
       "        vertical-align: middle;\n",
       "    }\n",
       "\n",
       "    .dataframe tbody tr th {\n",
       "        vertical-align: top;\n",
       "    }\n",
       "\n",
       "    .dataframe thead th {\n",
       "        text-align: right;\n",
       "    }\n",
       "</style>\n",
       "<table border=\"1\" class=\"dataframe\">\n",
       "  <thead>\n",
       "    <tr style=\"text-align: right;\">\n",
       "      <th></th>\n",
       "      <th>age</th>\n",
       "      <th>employment_type</th>\n",
       "      <th>graduate_or_not</th>\n",
       "      <th>annual_income</th>\n",
       "      <th>family_members</th>\n",
       "      <th>chronic_diseases</th>\n",
       "      <th>frequent_flyer</th>\n",
       "      <th>ever_travelled_abroad</th>\n",
       "      <th>gender</th>\n",
       "      <th>own_car</th>\n",
       "      <th>marital_status</th>\n",
       "    </tr>\n",
       "    <tr>\n",
       "      <th>index</th>\n",
       "      <th></th>\n",
       "      <th></th>\n",
       "      <th></th>\n",
       "      <th></th>\n",
       "      <th></th>\n",
       "      <th></th>\n",
       "      <th></th>\n",
       "      <th></th>\n",
       "      <th></th>\n",
       "      <th></th>\n",
       "      <th></th>\n",
       "    </tr>\n",
       "  </thead>\n",
       "  <tbody>\n",
       "    <tr>\n",
       "      <th>1</th>\n",
       "      <td>31</td>\n",
       "      <td>0</td>\n",
       "      <td>1</td>\n",
       "      <td>400000</td>\n",
       "      <td>6</td>\n",
       "      <td>1</td>\n",
       "      <td>0</td>\n",
       "      <td>0</td>\n",
       "      <td>0</td>\n",
       "      <td>1</td>\n",
       "      <td>Single</td>\n",
       "    </tr>\n",
       "    <tr>\n",
       "      <th>2</th>\n",
       "      <td>31</td>\n",
       "      <td>1</td>\n",
       "      <td>1</td>\n",
       "      <td>1250000</td>\n",
       "      <td>7</td>\n",
       "      <td>0</td>\n",
       "      <td>0</td>\n",
       "      <td>0</td>\n",
       "      <td>1</td>\n",
       "      <td>1</td>\n",
       "      <td>Divorced</td>\n",
       "    </tr>\n",
       "    <tr>\n",
       "      <th>3</th>\n",
       "      <td>34</td>\n",
       "      <td>1</td>\n",
       "      <td>1</td>\n",
       "      <td>500000</td>\n",
       "      <td>4</td>\n",
       "      <td>1</td>\n",
       "      <td>0</td>\n",
       "      <td>0</td>\n",
       "      <td>1</td>\n",
       "      <td>0</td>\n",
       "      <td>Single</td>\n",
       "    </tr>\n",
       "    <tr>\n",
       "      <th>4</th>\n",
       "      <td>28</td>\n",
       "      <td>1</td>\n",
       "      <td>1</td>\n",
       "      <td>700000</td>\n",
       "      <td>3</td>\n",
       "      <td>1</td>\n",
       "      <td>0</td>\n",
       "      <td>0</td>\n",
       "      <td>0</td>\n",
       "      <td>1</td>\n",
       "      <td>Divorced</td>\n",
       "    </tr>\n",
       "    <tr>\n",
       "      <th>5</th>\n",
       "      <td>28</td>\n",
       "      <td>1</td>\n",
       "      <td>1</td>\n",
       "      <td>700000</td>\n",
       "      <td>8</td>\n",
       "      <td>1</td>\n",
       "      <td>1</td>\n",
       "      <td>0</td>\n",
       "      <td>1</td>\n",
       "      <td>1</td>\n",
       "      <td>Divorced</td>\n",
       "    </tr>\n",
       "  </tbody>\n",
       "</table>\n",
       "</div>"
      ],
      "text/plain": [
       "       age  employment_type  graduate_or_not  annual_income  family_members  \\\n",
       "index                                                                         \n",
       "1       31                0                1         400000               6   \n",
       "2       31                1                1        1250000               7   \n",
       "3       34                1                1         500000               4   \n",
       "4       28                1                1         700000               3   \n",
       "5       28                1                1         700000               8   \n",
       "\n",
       "       chronic_diseases  frequent_flyer  ever_travelled_abroad  gender  \\\n",
       "index                                                                    \n",
       "1                     1               0                      0       0   \n",
       "2                     0               0                      0       1   \n",
       "3                     1               0                      0       1   \n",
       "4                     1               0                      0       0   \n",
       "5                     1               1                      0       1   \n",
       "\n",
       "       own_car marital_status  \n",
       "index                          \n",
       "1            1         Single  \n",
       "2            1       Divorced  \n",
       "3            0         Single  \n",
       "4            1       Divorced  \n",
       "5            1       Divorced  "
      ]
     },
     "execution_count": 21,
     "metadata": {},
     "output_type": "execute_result"
    }
   ],
   "source": [
    "x.head()"
   ]
  },
  {
   "cell_type": "code",
   "execution_count": 22,
   "id": "c17fad62",
   "metadata": {},
   "outputs": [],
   "source": [
    "x = pd.get_dummies(x,columns=['marital_status'])"
   ]
  },
  {
   "cell_type": "code",
   "execution_count": 23,
   "id": "cd1baee3",
   "metadata": {},
   "outputs": [
    {
     "data": {
      "text/html": [
       "<div>\n",
       "<style scoped>\n",
       "    .dataframe tbody tr th:only-of-type {\n",
       "        vertical-align: middle;\n",
       "    }\n",
       "\n",
       "    .dataframe tbody tr th {\n",
       "        vertical-align: top;\n",
       "    }\n",
       "\n",
       "    .dataframe thead th {\n",
       "        text-align: right;\n",
       "    }\n",
       "</style>\n",
       "<table border=\"1\" class=\"dataframe\">\n",
       "  <thead>\n",
       "    <tr style=\"text-align: right;\">\n",
       "      <th></th>\n",
       "      <th>age</th>\n",
       "      <th>employment_type</th>\n",
       "      <th>graduate_or_not</th>\n",
       "      <th>annual_income</th>\n",
       "      <th>family_members</th>\n",
       "      <th>chronic_diseases</th>\n",
       "      <th>frequent_flyer</th>\n",
       "      <th>ever_travelled_abroad</th>\n",
       "      <th>gender</th>\n",
       "      <th>own_car</th>\n",
       "      <th>marital_status_Divorced</th>\n",
       "      <th>marital_status_Married</th>\n",
       "      <th>marital_status_Single</th>\n",
       "      <th>marital_status_Unmarried</th>\n",
       "    </tr>\n",
       "    <tr>\n",
       "      <th>index</th>\n",
       "      <th></th>\n",
       "      <th></th>\n",
       "      <th></th>\n",
       "      <th></th>\n",
       "      <th></th>\n",
       "      <th></th>\n",
       "      <th></th>\n",
       "      <th></th>\n",
       "      <th></th>\n",
       "      <th></th>\n",
       "      <th></th>\n",
       "      <th></th>\n",
       "      <th></th>\n",
       "      <th></th>\n",
       "    </tr>\n",
       "  </thead>\n",
       "  <tbody>\n",
       "    <tr>\n",
       "      <th>1</th>\n",
       "      <td>31</td>\n",
       "      <td>0</td>\n",
       "      <td>1</td>\n",
       "      <td>400000</td>\n",
       "      <td>6</td>\n",
       "      <td>1</td>\n",
       "      <td>0</td>\n",
       "      <td>0</td>\n",
       "      <td>0</td>\n",
       "      <td>1</td>\n",
       "      <td>0</td>\n",
       "      <td>0</td>\n",
       "      <td>1</td>\n",
       "      <td>0</td>\n",
       "    </tr>\n",
       "    <tr>\n",
       "      <th>2</th>\n",
       "      <td>31</td>\n",
       "      <td>1</td>\n",
       "      <td>1</td>\n",
       "      <td>1250000</td>\n",
       "      <td>7</td>\n",
       "      <td>0</td>\n",
       "      <td>0</td>\n",
       "      <td>0</td>\n",
       "      <td>1</td>\n",
       "      <td>1</td>\n",
       "      <td>1</td>\n",
       "      <td>0</td>\n",
       "      <td>0</td>\n",
       "      <td>0</td>\n",
       "    </tr>\n",
       "    <tr>\n",
       "      <th>3</th>\n",
       "      <td>34</td>\n",
       "      <td>1</td>\n",
       "      <td>1</td>\n",
       "      <td>500000</td>\n",
       "      <td>4</td>\n",
       "      <td>1</td>\n",
       "      <td>0</td>\n",
       "      <td>0</td>\n",
       "      <td>1</td>\n",
       "      <td>0</td>\n",
       "      <td>0</td>\n",
       "      <td>0</td>\n",
       "      <td>1</td>\n",
       "      <td>0</td>\n",
       "    </tr>\n",
       "    <tr>\n",
       "      <th>4</th>\n",
       "      <td>28</td>\n",
       "      <td>1</td>\n",
       "      <td>1</td>\n",
       "      <td>700000</td>\n",
       "      <td>3</td>\n",
       "      <td>1</td>\n",
       "      <td>0</td>\n",
       "      <td>0</td>\n",
       "      <td>0</td>\n",
       "      <td>1</td>\n",
       "      <td>1</td>\n",
       "      <td>0</td>\n",
       "      <td>0</td>\n",
       "      <td>0</td>\n",
       "    </tr>\n",
       "    <tr>\n",
       "      <th>5</th>\n",
       "      <td>28</td>\n",
       "      <td>1</td>\n",
       "      <td>1</td>\n",
       "      <td>700000</td>\n",
       "      <td>8</td>\n",
       "      <td>1</td>\n",
       "      <td>1</td>\n",
       "      <td>0</td>\n",
       "      <td>1</td>\n",
       "      <td>1</td>\n",
       "      <td>1</td>\n",
       "      <td>0</td>\n",
       "      <td>0</td>\n",
       "      <td>0</td>\n",
       "    </tr>\n",
       "  </tbody>\n",
       "</table>\n",
       "</div>"
      ],
      "text/plain": [
       "       age  employment_type  graduate_or_not  annual_income  family_members  \\\n",
       "index                                                                         \n",
       "1       31                0                1         400000               6   \n",
       "2       31                1                1        1250000               7   \n",
       "3       34                1                1         500000               4   \n",
       "4       28                1                1         700000               3   \n",
       "5       28                1                1         700000               8   \n",
       "\n",
       "       chronic_diseases  frequent_flyer  ever_travelled_abroad  gender  \\\n",
       "index                                                                    \n",
       "1                     1               0                      0       0   \n",
       "2                     0               0                      0       1   \n",
       "3                     1               0                      0       1   \n",
       "4                     1               0                      0       0   \n",
       "5                     1               1                      0       1   \n",
       "\n",
       "       own_car  marital_status_Divorced  marital_status_Married  \\\n",
       "index                                                             \n",
       "1            1                        0                       0   \n",
       "2            1                        1                       0   \n",
       "3            0                        0                       0   \n",
       "4            1                        1                       0   \n",
       "5            1                        1                       0   \n",
       "\n",
       "       marital_status_Single  marital_status_Unmarried  \n",
       "index                                                   \n",
       "1                          1                         0  \n",
       "2                          0                         0  \n",
       "3                          1                         0  \n",
       "4                          0                         0  \n",
       "5                          0                         0  "
      ]
     },
     "execution_count": 23,
     "metadata": {},
     "output_type": "execute_result"
    }
   ],
   "source": [
    "x.head()"
   ]
  },
  {
   "cell_type": "markdown",
   "id": "7f6ad741",
   "metadata": {},
   "source": [
    "# Exploratory data analysis"
   ]
  },
  {
   "cell_type": "code",
   "execution_count": 24,
   "id": "ed0cdabe",
   "metadata": {},
   "outputs": [
    {
     "data": {
      "text/plain": [
       "array([[<AxesSubplot:title={'center':'age'}>,\n",
       "        <AxesSubplot:title={'center':'annual_income'}>],\n",
       "       [<AxesSubplot:title={'center':'family_members'}>,\n",
       "        <AxesSubplot:title={'center':'chronic_diseases'}>],\n",
       "       [<AxesSubplot:title={'center':'own_car'}>,\n",
       "        <AxesSubplot:title={'center':'travel_insurance'}>]], dtype=object)"
      ]
     },
     "execution_count": 24,
     "metadata": {},
     "output_type": "execute_result"
    },
    {
     "data": {
      "image/png": "[encoded data removed]",
      "text/plain": [
       "<Figure size 432x288 with 6 Axes>"
      ]
     },
     "metadata": {
      "needs_background": "light"
     },
     "output_type": "display_data"
    }
   ],
   "source": [
    "travel_df.hist()"
   ]
  },
  {
   "cell_type": "code",
   "execution_count": 25,
   "id": "460298be",
   "metadata": {},
   "outputs": [
    {
     "data": {
      "text/html": [
       "<div>\n",
       "<style scoped>\n",
       "    .dataframe tbody tr th:only-of-type {\n",
       "        vertical-align: middle;\n",
       "    }\n",
       "\n",
       "    .dataframe tbody tr th {\n",
       "        vertical-align: top;\n",
       "    }\n",
       "\n",
       "    .dataframe thead th {\n",
       "        text-align: right;\n",
       "    }\n",
       "</style>\n",
       "<table border=\"1\" class=\"dataframe\">\n",
       "  <thead>\n",
       "    <tr style=\"text-align: right;\">\n",
       "      <th></th>\n",
       "      <th>age</th>\n",
       "      <th>employment_type</th>\n",
       "      <th>graduate_or_not</th>\n",
       "      <th>annual_income</th>\n",
       "      <th>family_members</th>\n",
       "      <th>chronic_diseases</th>\n",
       "      <th>frequent_flyer</th>\n",
       "      <th>ever_travelled_abroad</th>\n",
       "      <th>gender</th>\n",
       "      <th>own_car</th>\n",
       "      <th>marital_status</th>\n",
       "      <th>travel_insurance</th>\n",
       "    </tr>\n",
       "    <tr>\n",
       "      <th>index</th>\n",
       "      <th></th>\n",
       "      <th></th>\n",
       "      <th></th>\n",
       "      <th></th>\n",
       "      <th></th>\n",
       "      <th></th>\n",
       "      <th></th>\n",
       "      <th></th>\n",
       "      <th></th>\n",
       "      <th></th>\n",
       "      <th></th>\n",
       "      <th></th>\n",
       "    </tr>\n",
       "  </thead>\n",
       "  <tbody>\n",
       "    <tr>\n",
       "      <th>1</th>\n",
       "      <td>31</td>\n",
       "      <td>Government Sector</td>\n",
       "      <td>Yes</td>\n",
       "      <td>400000</td>\n",
       "      <td>6</td>\n",
       "      <td>1</td>\n",
       "      <td>No</td>\n",
       "      <td>No</td>\n",
       "      <td>Female</td>\n",
       "      <td>1</td>\n",
       "      <td>Single</td>\n",
       "      <td>0</td>\n",
       "    </tr>\n",
       "    <tr>\n",
       "      <th>2</th>\n",
       "      <td>31</td>\n",
       "      <td>Private Sector/Self Employed</td>\n",
       "      <td>Yes</td>\n",
       "      <td>1250000</td>\n",
       "      <td>7</td>\n",
       "      <td>0</td>\n",
       "      <td>No</td>\n",
       "      <td>No</td>\n",
       "      <td>Male</td>\n",
       "      <td>1</td>\n",
       "      <td>Divorced</td>\n",
       "      <td>0</td>\n",
       "    </tr>\n",
       "    <tr>\n",
       "      <th>3</th>\n",
       "      <td>34</td>\n",
       "      <td>Private Sector/Self Employed</td>\n",
       "      <td>Yes</td>\n",
       "      <td>500000</td>\n",
       "      <td>4</td>\n",
       "      <td>1</td>\n",
       "      <td>No</td>\n",
       "      <td>No</td>\n",
       "      <td>Male</td>\n",
       "      <td>0</td>\n",
       "      <td>Single</td>\n",
       "      <td>1</td>\n",
       "    </tr>\n",
       "    <tr>\n",
       "      <th>4</th>\n",
       "      <td>28</td>\n",
       "      <td>Private Sector/Self Employed</td>\n",
       "      <td>Yes</td>\n",
       "      <td>700000</td>\n",
       "      <td>3</td>\n",
       "      <td>1</td>\n",
       "      <td>No</td>\n",
       "      <td>No</td>\n",
       "      <td>Female</td>\n",
       "      <td>1</td>\n",
       "      <td>Divorced</td>\n",
       "      <td>0</td>\n",
       "    </tr>\n",
       "    <tr>\n",
       "      <th>5</th>\n",
       "      <td>28</td>\n",
       "      <td>Private Sector/Self Employed</td>\n",
       "      <td>Yes</td>\n",
       "      <td>700000</td>\n",
       "      <td>8</td>\n",
       "      <td>1</td>\n",
       "      <td>Yes</td>\n",
       "      <td>No</td>\n",
       "      <td>Male</td>\n",
       "      <td>1</td>\n",
       "      <td>Divorced</td>\n",
       "      <td>0</td>\n",
       "    </tr>\n",
       "  </tbody>\n",
       "</table>\n",
       "</div>"
      ],
      "text/plain": [
       "       age               employment_type graduate_or_not  annual_income  \\\n",
       "index                                                                     \n",
       "1       31             Government Sector             Yes         400000   \n",
       "2       31  Private Sector/Self Employed             Yes        1250000   \n",
       "3       34  Private Sector/Self Employed             Yes         500000   \n",
       "4       28  Private Sector/Self Employed             Yes         700000   \n",
       "5       28  Private Sector/Self Employed             Yes         700000   \n",
       "\n",
       "       family_members  chronic_diseases frequent_flyer ever_travelled_abroad  \\\n",
       "index                                                                          \n",
       "1                   6                 1             No                    No   \n",
       "2                   7                 0             No                    No   \n",
       "3                   4                 1             No                    No   \n",
       "4                   3                 1             No                    No   \n",
       "5                   8                 1            Yes                    No   \n",
       "\n",
       "       gender  own_car marital_status  travel_insurance  \n",
       "index                                                    \n",
       "1      Female        1         Single                 0  \n",
       "2        Male        1       Divorced                 0  \n",
       "3        Male        0         Single                 1  \n",
       "4      Female        1       Divorced                 0  \n",
       "5        Male        1       Divorced                 0  "
      ]
     },
     "execution_count": 25,
     "metadata": {},
     "output_type": "execute_result"
    }
   ],
   "source": [
    "travel_df.head()"
   ]
  },
  {
   "cell_type": "code",
   "execution_count": 26,
   "id": "8e9cb050",
   "metadata": {},
   "outputs": [
    {
     "data": {
      "text/plain": [
       "<AxesSubplot:xlabel='graduate_or_not', ylabel='count'>"
      ]
     },
     "execution_count": 26,
     "metadata": {},
     "output_type": "execute_result"
    },
    {
     "data": {
      "image/png": "[encoded data removed]",
      "text/plain": [
       "<Figure size 576x396 with 1 Axes>"
      ]
     },
     "metadata": {},
     "output_type": "display_data"
    }
   ],
   "source": [
    "plt.style.use('seaborn')\n",
    "sns.countplot(x='graduate_or_not',data=travel_df,hue='gender')"
   ]
  },
  {
   "cell_type": "markdown",
   "id": "41a503fa",
   "metadata": {},
   "source": [
    "We can see from the graph that the amount non graduates are really low compared to graduates. Also Males are more in both categories"
   ]
  },
  {
   "cell_type": "code",
   "execution_count": 27,
   "id": "4f375dbf",
   "metadata": {},
   "outputs": [
    {
     "data": {
      "image/png": "[encoded data removed]",
      "text/plain": [
       "<Figure size 576x396 with 1 Axes>"
      ]
     },
     "metadata": {},
     "output_type": "display_data"
    },
    {
     "data": {
      "image/png": "[encoded data removed]",
      "text/plain": [
       "<Figure size 576x396 with 1 Axes>"
      ]
     },
     "metadata": {},
     "output_type": "display_data"
    }
   ],
   "source": [
    "for item in ['age','annual_income']:\n",
    "    sns.histplot(data=travel_df,x=travel_df[item],hue=travel_df['travel_insurance'])\n",
    "    plt.show()"
   ]
  },
  {
   "cell_type": "markdown",
   "id": "0839f9ac",
   "metadata": {},
   "source": [
    "We observe lower rates of Travel Insurance in the middle of the age range and bottom two-thirds of the income distribution."
   ]
  },
  {
   "cell_type": "code",
   "execution_count": 28,
   "id": "1703b36e",
   "metadata": {},
   "outputs": [
    {
     "data": {
      "text/plain": [
       "<AxesSubplot:xlabel='ever_travelled_abroad', ylabel='count'>"
      ]
     },
     "execution_count": 28,
     "metadata": {},
     "output_type": "execute_result"
    },
    {
     "data": {
      "image/png": "[encoded data removed]",
      "text/plain": [
       "<Figure size 576x396 with 1 Axes>"
      ]
     },
     "metadata": {},
     "output_type": "display_data"
    }
   ],
   "source": [
    "sns.countplot(x='ever_travelled_abroad',hue='travel_insurance',data=travel_df)"
   ]
  },
  {
   "cell_type": "markdown",
   "id": "9d3c2f88",
   "metadata": {},
   "source": [
    "We can see that among the people who travelled abroad majority of them have bought travel insurance and the majority of people who haven't travelled abroad haven't bought travel insurance"
   ]
  },
  {
   "cell_type": "code",
   "execution_count": 29,
   "id": "2a4708ba",
   "metadata": {},
   "outputs": [
    {
     "data": {
      "text/plain": [
       "<AxesSubplot:xlabel='graduate_or_not', ylabel='count'>"
      ]
     },
     "execution_count": 29,
     "metadata": {},
     "output_type": "execute_result"
    },
    {
     "data": {
      "image/png": "[encoded data removed]",
      "text/plain": [
       "<Figure size 576x396 with 1 Axes>"
      ]
     },
     "metadata": {},
     "output_type": "display_data"
    }
   ],
   "source": [
    "sns.countplot(x='graduate_or_not',hue='travel_insurance',data=travel_df)"
   ]
  },
  {
   "cell_type": "markdown",
   "id": "ef40b675",
   "metadata": {},
   "source": [
    "From this graph we can observe that among the people who have graduated only 36% have bought the insurance and among the non graduates 33% have bought the insurance"
   ]
  },
  {
   "cell_type": "code",
   "execution_count": 30,
   "id": "6fd8f705",
   "metadata": {},
   "outputs": [
    {
     "data": {
      "text/plain": [
       "<AxesSubplot:xlabel='annual_income', ylabel='Count'>"
      ]
     },
     "execution_count": 30,
     "metadata": {},
     "output_type": "execute_result"
    },
    {
     "data": {
      "image/png": "[encoded data removed]",
      "text/plain": [
       "<Figure size 576x396 with 1 Axes>"
      ]
     },
     "metadata": {},
     "output_type": "display_data"
    }
   ],
   "source": [
    "sns.histplot(data=travel_df, x='annual_income', hue='travel_insurance', )"
   ]
  },
  {
   "cell_type": "markdown",
   "id": "2a52b4ba",
   "metadata": {},
   "source": [
    "People who have annual income greater than 1.3 million have bought more travel insurance than the rest."
   ]
  },
  {
   "cell_type": "code",
   "execution_count": 31,
   "id": "e2004b72",
   "metadata": {},
   "outputs": [
    {
     "data": {
      "text/plain": [
       "<AxesSubplot:xlabel='age', ylabel='annual_income'>"
      ]
     },
     "execution_count": 31,
     "metadata": {},
     "output_type": "execute_result"
    },
    {
     "data": {
      "image/png": "[encoded data removed]",
      "text/plain": [
       "<Figure size 576x396 with 1 Axes>"
      ]
     },
     "metadata": {},
     "output_type": "display_data"
    }
   ],
   "source": [
    "sns.barplot(x='age',y='annual_income',data = travel_df)"
   ]
  },
  {
   "cell_type": "markdown",
   "id": "474e895b",
   "metadata": {},
   "source": [
    "Gives us an overview how much annual income each age group has"
   ]
  },
  {
   "cell_type": "code",
   "execution_count": 32,
   "id": "87a159a5",
   "metadata": {},
   "outputs": [
    {
     "data": {
      "text/plain": [
       "<AxesSubplot:xlabel='family_members', ylabel='Count'>"
      ]
     },
     "execution_count": 32,
     "metadata": {},
     "output_type": "execute_result"
    },
    {
     "data": {
      "image/png": "[encoded data removed]",
      "text/plain": [
       "<Figure size 576x396 with 1 Axes>"
      ]
     },
     "metadata": {},
     "output_type": "display_data"
    }
   ],
   "source": [
    "sns.histplot(x='family_members',hue='travel_insurance',data=travel_df)"
   ]
  },
  {
   "cell_type": "markdown",
   "id": "ab800b6e",
   "metadata": {},
   "source": [
    "We can see that families having members grater than 5 tend to buy travel insurance more."
   ]
  },
  {
   "cell_type": "code",
   "execution_count": 33,
   "id": "20433e1e",
   "metadata": {},
   "outputs": [
    {
     "data": {
      "text/plain": [
       "<AxesSubplot:xlabel='employment_type', ylabel='Count'>"
      ]
     },
     "execution_count": 33,
     "metadata": {},
     "output_type": "execute_result"
    },
    {
     "data": {
      "image/png": "[encoded data removed]",
      "text/plain": [
       "<Figure size 576x396 with 1 Axes>"
      ]
     },
     "metadata": {},
     "output_type": "display_data"
    }
   ],
   "source": [
    "sns.histplot(x='employment_type',hue='travel_insurance',data=travel_df)"
   ]
  },
  {
   "cell_type": "markdown",
   "id": "cf76fb3f",
   "metadata": {},
   "source": [
    "Private sector employees tend to buy travel insurance more compared to government sector employees"
   ]
  },
  {
   "cell_type": "markdown",
   "id": "6718a49c",
   "metadata": {},
   "source": [
    "# Building Model"
   ]
  },
  {
   "cell_type": "code",
   "execution_count": 34,
   "id": "3c60b48a",
   "metadata": {},
   "outputs": [],
   "source": [
    "#Splitting the data\n",
    "from sklearn.model_selection import train_test_split\n",
    "x_train, x_test, y_train, y_test = train_test_split(x,y,test_size=0.2,random_state=42)\n"
   ]
  },
  {
   "cell_type": "code",
   "execution_count": 35,
   "id": "4983f0d2",
   "metadata": {},
   "outputs": [],
   "source": [
    "from sklearn.preprocessing import StandardScaler\n",
    "standardization = StandardScaler()"
   ]
  },
  {
   "cell_type": "code",
   "execution_count": 36,
   "id": "98af994e",
   "metadata": {},
   "outputs": [],
   "source": [
    "from sklearn.metrics import confusion_matrix,accuracy_score,precision_score,recall_score,f1_score,log_loss,classification_report\n"
   ]
  },
  {
   "cell_type": "code",
   "execution_count": 37,
   "id": "26570b04",
   "metadata": {},
   "outputs": [],
   "source": [
    "x_train = standardization.fit_transform(x_train)\n",
    "x_test = standardization.fit_transform(x_test)\n",
    "x_train = pd.DataFrame(x_train)\n",
    "x_test = pd.DataFrame(x_test)"
   ]
  },
  {
   "cell_type": "markdown",
   "id": "da8a14ec",
   "metadata": {},
   "source": [
    "# Logistic Regression"
   ]
  },
  {
   "cell_type": "code",
   "execution_count": 38,
   "id": "8be3f9be",
   "metadata": {},
   "outputs": [],
   "source": [
    "from sklearn.linear_model import LogisticRegression\n",
    "logreg = LogisticRegression()\n",
    "logreg.fit(x_train,y_train)\n",
    "y_pred = logreg.predict(x_test)"
   ]
  },
  {
   "cell_type": "code",
   "execution_count": 39,
   "id": "7a86a150",
   "metadata": {},
   "outputs": [
    {
     "name": "stdout",
     "output_type": "stream",
     "text": [
      "Classification report for test data is : \n",
      "               precision    recall  f1-score   support\n",
      "\n",
      "           0       0.76      0.93      0.83       274\n",
      "           1       0.79      0.47      0.59       156\n",
      "\n",
      "    accuracy                           0.76       430\n",
      "   macro avg       0.77      0.70      0.71       430\n",
      "weighted avg       0.77      0.76      0.75       430\n",
      "\n"
     ]
    }
   ],
   "source": [
    "print('Classification report for test data is : \\n',\n",
    "      classification_report(y_test, y_pred))"
   ]
  },
  {
   "cell_type": "markdown",
   "id": "0b702e31",
   "metadata": {},
   "source": [
    "# KNN"
   ]
  },
  {
   "cell_type": "code",
   "execution_count": 40,
   "id": "08c092be",
   "metadata": {},
   "outputs": [],
   "source": [
    "from sklearn.neighbors import KNeighborsClassifier\n",
    "acc_values = []\n",
    "neighbors = np.arange(3,20)\n",
    "\n",
    "for k in neighbors:\n",
    "    knn_classifier = KNeighborsClassifier(n_neighbors=k)\n",
    "    knn_classifier.fit(x_train,y_train)\n",
    "    y_pred = knn_classifier.predict(x_test)\n",
    "    acc = accuracy_score(y_test,y_pred)\n",
    "    acc_values.append(acc)"
   ]
  },
  {
   "cell_type": "code",
   "execution_count": 41,
   "id": "f1f0892b",
   "metadata": {},
   "outputs": [
    {
     "data": {
      "text/plain": [
       "Text(0, 0.5, 'Accuracy')"
      ]
     },
     "execution_count": 41,
     "metadata": {},
     "output_type": "execute_result"
    },
    {
     "data": {
      "image/png": "[encoded data removed]",
      "text/plain": [
       "<Figure size 576x396 with 1 Axes>"
      ]
     },
     "metadata": {},
     "output_type": "display_data"
    }
   ],
   "source": [
    "plt.plot(neighbors, acc_values)\n",
    "plt.xlabel('K Values')\n",
    "plt.ylabel('Accuracy')"
   ]
  },
  {
   "cell_type": "markdown",
   "id": "0c63763d",
   "metadata": {},
   "source": [
    "we get max accuracy with k = 11"
   ]
  },
  {
   "cell_type": "code",
   "execution_count": 42,
   "id": "c595b674",
   "metadata": {},
   "outputs": [],
   "source": [
    "knn_classifier = KNeighborsClassifier(n_neighbors=11)\n",
    "knn_classifier.fit(x_train,y_train)\n",
    "y_pred = knn_classifier.predict(x_test)"
   ]
  },
  {
   "cell_type": "code",
   "execution_count": 43,
   "id": "e7e40ea8",
   "metadata": {},
   "outputs": [
    {
     "name": "stdout",
     "output_type": "stream",
     "text": [
      "ACCURACY:  0.7581395348837209\n",
      "PRECISION:  0.7708333333333334\n",
      "RECALL:  0.47435897435897434\n",
      "F1_score 0.5873015873015872\n"
     ]
    }
   ],
   "source": [
    "print(\"ACCURACY: \",accuracy_score(y_test,y_pred))\n",
    "print(\"PRECISION: \",precision_score(y_test,y_pred))\n",
    "print(\"RECALL: \",recall_score(y_test,y_pred))\n",
    "print(\"F1_score\",f1_score(y_test,y_pred))"
   ]
  },
  {
   "cell_type": "code",
   "execution_count": 44,
   "id": "56ca8857",
   "metadata": {},
   "outputs": [
    {
     "name": "stdout",
     "output_type": "stream",
     "text": [
      "Classification report for test data is : \n",
      "               precision    recall  f1-score   support\n",
      "\n",
      "           0       0.75      0.92      0.83       274\n",
      "           1       0.77      0.47      0.59       156\n",
      "\n",
      "    accuracy                           0.76       430\n",
      "   macro avg       0.76      0.70      0.71       430\n",
      "weighted avg       0.76      0.76      0.74       430\n",
      "\n"
     ]
    }
   ],
   "source": [
    "print('Classification report for test data is : \\n',\n",
    "      classification_report(y_test, y_pred))"
   ]
  },
  {
   "cell_type": "markdown",
   "id": "fba884ae",
   "metadata": {},
   "source": [
    "# SVM"
   ]
  },
  {
   "cell_type": "code",
   "execution_count": 45,
   "id": "3d00ede9",
   "metadata": {},
   "outputs": [],
   "source": [
    "from sklearn.svm import SVC\n",
    "acc_values = []\n",
    "for item in ['linear','poly','rbf']:\n",
    "    svm_classifier = SVC(kernel=item)\n",
    "    svm_classifier.fit(x_train,y_train)\n",
    "    y_pred = svm_classifier.predict(x_test)\n",
    "    acc = accuracy_score(y_test,y_pred)\n",
    "    acc_values.append(acc)"
   ]
  },
  {
   "cell_type": "code",
   "execution_count": 46,
   "id": "22f1232d",
   "metadata": {},
   "outputs": [
    {
     "data": {
      "text/plain": [
       "[0.7348837209302326, 0.7604651162790698, 0.7697674418604651]"
      ]
     },
     "execution_count": 46,
     "metadata": {},
     "output_type": "execute_result"
    }
   ],
   "source": [
    "acc_values"
   ]
  },
  {
   "cell_type": "markdown",
   "id": "7ac4deee",
   "metadata": {},
   "source": [
    "rbf kernel provides best result"
   ]
  },
  {
   "cell_type": "code",
   "execution_count": 47,
   "id": "f2136c56",
   "metadata": {},
   "outputs": [],
   "source": [
    "svm_classifier = SVC(kernel='rbf')\n",
    "svm_classifier.fit(x_train,y_train)\n",
    "y_pred = svm_classifier.predict(x_test)"
   ]
  },
  {
   "cell_type": "code",
   "execution_count": 48,
   "id": "82dc7bae",
   "metadata": {},
   "outputs": [
    {
     "name": "stdout",
     "output_type": "stream",
     "text": [
      "ACCURACY:  0.7697674418604651\n",
      "PRECISION:  0.7938144329896907\n",
      "RECALL:  0.4935897435897436\n",
      "F1_score 0.6086956521739131\n"
     ]
    }
   ],
   "source": [
    "print(\"ACCURACY: \",accuracy_score(y_test,y_pred))\n",
    "print(\"PRECISION: \",precision_score(y_test,y_pred))\n",
    "print(\"RECALL: \",recall_score(y_test,y_pred))\n",
    "print(\"F1_score\",f1_score(y_test,y_pred))"
   ]
  },
  {
   "cell_type": "code",
   "execution_count": 49,
   "id": "7d3a3452",
   "metadata": {},
   "outputs": [
    {
     "name": "stdout",
     "output_type": "stream",
     "text": [
      "Classification report for test data is : \n",
      "               precision    recall  f1-score   support\n",
      "\n",
      "           0       0.76      0.93      0.84       274\n",
      "           1       0.79      0.49      0.61       156\n",
      "\n",
      "    accuracy                           0.77       430\n",
      "   macro avg       0.78      0.71      0.72       430\n",
      "weighted avg       0.77      0.77      0.75       430\n",
      "\n"
     ]
    }
   ],
   "source": [
    "print('Classification report for test data is : \\n',\n",
    "      classification_report(y_test, y_pred))"
   ]
  },
  {
   "cell_type": "markdown",
   "id": "9dcf5c53",
   "metadata": {},
   "source": [
    "# Decision Tree"
   ]
  },
  {
   "cell_type": "code",
   "execution_count": 50,
   "id": "4b6dc3d2",
   "metadata": {},
   "outputs": [],
   "source": [
    "from sklearn.tree import DecisionTreeClassifier\n",
    "dt_classifier = DecisionTreeClassifier()\n",
    "dt_classifier.fit(x_train,y_train)\n",
    "y_pred = dt_classifier.predict(x_test)"
   ]
  },
  {
   "cell_type": "code",
   "execution_count": 51,
   "id": "db5ead70",
   "metadata": {},
   "outputs": [
    {
     "name": "stdout",
     "output_type": "stream",
     "text": [
      "ACCURACY:  0.6627906976744186\n",
      "PRECISION:  0.5341614906832298\n",
      "RECALL:  0.5512820512820513\n",
      "F1_score 0.5425867507886435\n"
     ]
    }
   ],
   "source": [
    "print(\"ACCURACY: \",accuracy_score(y_test,y_pred))\n",
    "print(\"PRECISION: \",precision_score(y_test,y_pred))\n",
    "print(\"RECALL: \",recall_score(y_test,y_pred))\n",
    "print(\"F1_score\",f1_score(y_test,y_pred))"
   ]
  },
  {
   "cell_type": "code",
   "execution_count": 52,
   "id": "d17608d0",
   "metadata": {},
   "outputs": [
    {
     "name": "stdout",
     "output_type": "stream",
     "text": [
      "Classification report for test data is : \n",
      "               precision    recall  f1-score   support\n",
      "\n",
      "           0       0.74      0.73      0.73       274\n",
      "           1       0.53      0.55      0.54       156\n",
      "\n",
      "    accuracy                           0.66       430\n",
      "   macro avg       0.64      0.64      0.64       430\n",
      "weighted avg       0.67      0.66      0.66       430\n",
      "\n"
     ]
    }
   ],
   "source": [
    "print('Classification report for test data is : \\n',\n",
    "      classification_report(y_test, y_pred))"
   ]
  },
  {
   "cell_type": "markdown",
   "id": "b0e34370",
   "metadata": {},
   "source": [
    "# Random Forest"
   ]
  },
  {
   "cell_type": "code",
   "execution_count": 53,
   "id": "124643cb",
   "metadata": {},
   "outputs": [],
   "source": [
    "from sklearn.ensemble import RandomForestClassifier\n",
    "rf_classifier = RandomForestClassifier()\n",
    "rf_classifier.fit(x_train,y_train)\n",
    "y_pred = rf_classifier.predict(x_test)"
   ]
  },
  {
   "cell_type": "code",
   "execution_count": 54,
   "id": "a1f939ff",
   "metadata": {},
   "outputs": [
    {
     "name": "stdout",
     "output_type": "stream",
     "text": [
      "ACCURACY:  0.7627906976744186\n",
      "PRECISION:  0.7288135593220338\n",
      "RECALL:  0.5512820512820513\n",
      "F1_score 0.6277372262773723\n"
     ]
    }
   ],
   "source": [
    "print(\"ACCURACY: \",accuracy_score(y_test,y_pred))\n",
    "print(\"PRECISION: \",precision_score(y_test,y_pred))\n",
    "print(\"RECALL: \",recall_score(y_test,y_pred))\n",
    "print(\"F1_score\",f1_score(y_test,y_pred))"
   ]
  },
  {
   "cell_type": "code",
   "execution_count": 55,
   "id": "7b03fc29",
   "metadata": {},
   "outputs": [
    {
     "name": "stdout",
     "output_type": "stream",
     "text": [
      "Classification report for test data is : \n",
      "               precision    recall  f1-score   support\n",
      "\n",
      "           0       0.78      0.88      0.83       274\n",
      "           1       0.73      0.55      0.63       156\n",
      "\n",
      "    accuracy                           0.76       430\n",
      "   macro avg       0.75      0.72      0.73       430\n",
      "weighted avg       0.76      0.76      0.75       430\n",
      "\n"
     ]
    }
   ],
   "source": [
    "print('Classification report for test data is : \\n',\n",
    "      classification_report(y_test, y_pred))"
   ]
  },
  {
   "cell_type": "markdown",
   "id": "41a4f59f",
   "metadata": {},
   "source": [
    "# Gradient Boosting"
   ]
  },
  {
   "cell_type": "code",
   "execution_count": 56,
   "id": "2a13aeaa",
   "metadata": {},
   "outputs": [],
   "source": [
    "from sklearn.ensemble import GradientBoostingClassifier \n",
    "\n",
    "gb_classifier = GradientBoostingClassifier(learning_rate=0.1)\n",
    "gb_classifier.fit(x_train,y_train)\n",
    "y_pred = gb_classifier.predict(x_test)"
   ]
  },
  {
   "cell_type": "code",
   "execution_count": 57,
   "id": "f9835c1f",
   "metadata": {},
   "outputs": [
    {
     "name": "stdout",
     "output_type": "stream",
     "text": [
      "ACCURACY:  0.8046511627906977\n",
      "PRECISION:  0.8829787234042553\n",
      "RECALL:  0.532051282051282\n",
      "F1_score 0.6639999999999999\n"
     ]
    }
   ],
   "source": [
    "print(\"ACCURACY: \",accuracy_score(y_test,y_pred))\n",
    "print(\"PRECISION: \",precision_score(y_test,y_pred))\n",
    "print(\"RECALL: \",recall_score(y_test,y_pred))\n",
    "print(\"F1_score\",f1_score(y_test,y_pred))"
   ]
  },
  {
   "cell_type": "code",
   "execution_count": 58,
   "id": "8f75617b",
   "metadata": {},
   "outputs": [
    {
     "name": "stdout",
     "output_type": "stream",
     "text": [
      "Classification report for test data is : \n",
      "               precision    recall  f1-score   support\n",
      "\n",
      "           0       0.78      0.96      0.86       274\n",
      "           1       0.88      0.53      0.66       156\n",
      "\n",
      "    accuracy                           0.80       430\n",
      "   macro avg       0.83      0.75      0.76       430\n",
      "weighted avg       0.82      0.80      0.79       430\n",
      "\n"
     ]
    }
   ],
   "source": [
    "print('Classification report for test data is : \\n',\n",
    "      classification_report(y_test, y_pred))"
   ]
  },
  {
   "cell_type": "markdown",
   "id": "d1cd5c29",
   "metadata": {},
   "source": [
    "# Hyper parameter Tuning of different models"
   ]
  },
  {
   "cell_type": "markdown",
   "id": "ab275288",
   "metadata": {},
   "source": [
    "# Gradient Boosting"
   ]
  },
  {
   "cell_type": "code",
   "execution_count": 59,
   "id": "731a55bf",
   "metadata": {},
   "outputs": [],
   "source": [
    "model_parameters = {'n_estimators': [10, 50, 100, 200, 500, 750, 1000], 'max_depth': [3, 5, 10],\n",
    "                    'min_samples_leaf': [np.random.randint(1,10)], 'max_features': [None, 'sqrt', 'log2']}\n"
   ]
  },
  {
   "cell_type": "code",
   "execution_count": 60,
   "id": "0ec51f2f",
   "metadata": {},
   "outputs": [
    {
     "name": "stdout",
     "output_type": "stream",
     "text": [
      "Fitting 5 folds for each of 63 candidates, totalling 315 fits\n"
     ]
    },
    {
     "data": {
      "text/plain": [
       "GridSearchCV(cv=5, estimator=GradientBoostingClassifier(random_state=10),\n",
       "             n_jobs=-1,\n",
       "             param_grid={'max_depth': [3, 5, 10],\n",
       "                         'max_features': [None, 'sqrt', 'log2'],\n",
       "                         'min_samples_leaf': [6],\n",
       "                         'n_estimators': [10, 50, 100, 200, 500, 750, 1000]},\n",
       "             scoring='roc_auc', verbose=1)"
      ]
     },
     "execution_count": 60,
     "metadata": {},
     "output_type": "execute_result"
    }
   ],
   "source": [
    "from sklearn.model_selection import GridSearchCV\n",
    "model = GradientBoostingClassifier(random_state = 10)\n",
    "gscv_GBM = GridSearchCV(estimator = model, \n",
    "                        param_grid = model_parameters, \n",
    "                        cv = 5, \n",
    "                        verbose = 1, \n",
    "                        n_jobs = -1,\n",
    "                        scoring = 'roc_auc')\n",
    "\n",
    "gscv_GBM.fit(x_train, y_train)"
   ]
  },
  {
   "cell_type": "code",
   "execution_count": 61,
   "id": "7a291350",
   "metadata": {},
   "outputs": [
    {
     "name": "stdout",
     "output_type": "stream",
     "text": [
      "The best parameters are - {'max_depth': 3, 'max_features': None, 'min_samples_leaf': 6, 'n_estimators': 100}\n"
     ]
    }
   ],
   "source": [
    "print('The best parameters are -', gscv_GBM.best_params_)"
   ]
  },
  {
   "cell_type": "code",
   "execution_count": 62,
   "id": "25b4a9fa",
   "metadata": {},
   "outputs": [],
   "source": [
    "## Refitting the model with the best parameters\n",
    "\n",
    "gb_classifier = GradientBoostingClassifier(**gscv_GBM.best_params_)\n",
    "gb_classifier.fit(x_train,y_train)\n",
    "y_pred = gb_classifier.predict(x_test)"
   ]
  },
  {
   "cell_type": "code",
   "execution_count": 63,
   "id": "90c57e2a",
   "metadata": {},
   "outputs": [
    {
     "name": "stdout",
     "output_type": "stream",
     "text": [
      "ACCURACY:  0.8023255813953488\n",
      "PRECISION:  0.8817204301075269\n",
      "RECALL:  0.5256410256410257\n",
      "F1_score 0.6586345381526104\n"
     ]
    }
   ],
   "source": [
    "print(\"ACCURACY: \",accuracy_score(y_test,y_pred))\n",
    "print(\"PRECISION: \",precision_score(y_test,y_pred))\n",
    "print(\"RECALL: \",recall_score(y_test,y_pred))\n",
    "print(\"F1_score\",f1_score(y_test,y_pred))"
   ]
  },
  {
   "cell_type": "code",
   "execution_count": 64,
   "id": "362cdc89",
   "metadata": {},
   "outputs": [
    {
     "name": "stdout",
     "output_type": "stream",
     "text": [
      "Classification report for test data is : \n",
      "               precision    recall  f1-score   support\n",
      "\n",
      "           0       0.78      0.96      0.86       274\n",
      "           1       0.88      0.53      0.66       156\n",
      "\n",
      "    accuracy                           0.80       430\n",
      "   macro avg       0.83      0.74      0.76       430\n",
      "weighted avg       0.82      0.80      0.79       430\n",
      "\n"
     ]
    }
   ],
   "source": [
    "print('Classification report for test data is : \\n',\n",
    "      classification_report(y_test, y_pred))"
   ]
  },
  {
   "cell_type": "markdown",
   "id": "887952f3",
   "metadata": {},
   "source": [
    "We can see that it didn't make much of a difference"
   ]
  },
  {
   "cell_type": "markdown",
   "id": "8152e599",
   "metadata": {},
   "source": [
    "# Random Forest"
   ]
  },
  {
   "cell_type": "code",
   "execution_count": 65,
   "id": "f700d729",
   "metadata": {},
   "outputs": [],
   "source": [
    "model_parameters = {'n_estimators': [50, 100, 200, 400, 500, 700, 900],\n",
    "               'criterion': ['gini', 'entropy'],\n",
    "               'max_features': ['auto', 'sqrt', 'log2'],\n",
    "               'max_depth': [None],\n",
    "               'min_samples_split': [2, 5, 10],\n",
    "               'min_samples_leaf': [1, 2, 4],\n",
    "               'bootstrap': [True, False]}"
   ]
  },
  {
   "cell_type": "code",
   "execution_count": 66,
   "id": "13e7fa78",
   "metadata": {},
   "outputs": [
    {
     "name": "stdout",
     "output_type": "stream",
     "text": [
      "Fitting 3 folds for each of 100 candidates, totalling 300 fits\n"
     ]
    },
    {
     "data": {
      "text/plain": [
       "RandomizedSearchCV(cv=3, estimator=RandomForestClassifier(), n_iter=100,\n",
       "                   n_jobs=-1,\n",
       "                   param_distributions={'bootstrap': [True, False],\n",
       "                                        'criterion': ['gini', 'entropy'],\n",
       "                                        'max_depth': [None],\n",
       "                                        'max_features': ['auto', 'sqrt',\n",
       "                                                         'log2'],\n",
       "                                        'min_samples_leaf': [1, 2, 4],\n",
       "                                        'min_samples_split': [2, 5, 10],\n",
       "                                        'n_estimators': [50, 100, 200, 400, 500,\n",
       "                                                         700, 900]},\n",
       "                   random_state=42, verbose=2)"
      ]
     },
     "execution_count": 66,
     "metadata": {},
     "output_type": "execute_result"
    }
   ],
   "source": [
    "from sklearn.model_selection import RandomizedSearchCV\n",
    "model = RandomForestClassifier()\n",
    "\n",
    "rf_search = RandomizedSearchCV(estimator = model, \n",
    "                               param_distributions = model_parameters, \n",
    "                               n_iter = 100, \n",
    "                               cv = 3, \n",
    "                               verbose=2, \n",
    "                               random_state=42, \n",
    "                               n_jobs = -1)\n",
    "\n",
    "rf_search.fit(x_train, y_train)"
   ]
  },
  {
   "cell_type": "code",
   "execution_count": 67,
   "id": "1da5f1a9",
   "metadata": {},
   "outputs": [
    {
     "data": {
      "text/plain": [
       "{'n_estimators': 400,\n",
       " 'min_samples_split': 10,\n",
       " 'min_samples_leaf': 4,\n",
       " 'max_features': 'auto',\n",
       " 'max_depth': None,\n",
       " 'criterion': 'entropy',\n",
       " 'bootstrap': False}"
      ]
     },
     "execution_count": 67,
     "metadata": {},
     "output_type": "execute_result"
    }
   ],
   "source": [
    "rf_search.best_params_"
   ]
  },
  {
   "cell_type": "code",
   "execution_count": 71,
   "id": "782f3182",
   "metadata": {},
   "outputs": [],
   "source": [
    "rf_classifier = RandomForestClassifier(**rf_search.best_params_)\n",
    "rf_classifier.fit(x_train,y_train)\n",
    "y_pred = rf_classifier.predict(x_test)"
   ]
  },
  {
   "cell_type": "code",
   "execution_count": 72,
   "id": "9175be71",
   "metadata": {},
   "outputs": [
    {
     "name": "stdout",
     "output_type": "stream",
     "text": [
      "Classification report for test data is : \n",
      "               precision    recall  f1-score   support\n",
      "\n",
      "           0       0.78      0.96      0.86       274\n",
      "           1       0.88      0.54      0.67       156\n",
      "\n",
      "    accuracy                           0.80       430\n",
      "   macro avg       0.83      0.75      0.76       430\n",
      "weighted avg       0.82      0.80      0.79       430\n",
      "\n"
     ]
    }
   ],
   "source": [
    "print('Classification report for test data is : \\n',\n",
    "      classification_report(y_test, y_pred))"
   ]
  },
  {
   "cell_type": "markdown",
   "id": "d4afed45",
   "metadata": {},
   "source": [
    "In random forest we can see a 4% increase in accuracy after hyperparameter tuning"
   ]
  },
  {
   "cell_type": "markdown",
   "id": "003d17ba",
   "metadata": {},
   "source": [
    "# Logistic Regression"
   ]
  },
  {
   "cell_type": "code",
   "execution_count": 73,
   "id": "d8b0188a",
   "metadata": {},
   "outputs": [],
   "source": [
    "solvers = ['newton-cg', 'lbfgs', 'liblinear']\n",
    "penalty = ['l2']\n",
    "c_values = [100, 10, 1.0, 0.1, 0.01]\n",
    "model_parameters = {'penalty':penalty,'solver':solvers,'C':c_values}"
   ]
  },
  {
   "cell_type": "code",
   "execution_count": 74,
   "id": "e2df6557",
   "metadata": {},
   "outputs": [
    {
     "data": {
      "text/plain": [
       "GridSearchCV(cv=3, error_score=0, estimator=LogisticRegression(), n_jobs=-1,\n",
       "             param_grid={'C': [100, 10, 1.0, 0.1, 0.01], 'penalty': ['l2'],\n",
       "                         'solver': ['newton-cg', 'lbfgs', 'liblinear']},\n",
       "             scoring='accuracy')"
      ]
     },
     "execution_count": 74,
     "metadata": {},
     "output_type": "execute_result"
    }
   ],
   "source": [
    "model = LogisticRegression()\n",
    "logReg_search = GridSearchCV(estimator=model, param_grid=model_parameters, n_jobs=-1, cv=3, scoring='accuracy',error_score=0)\n",
    "logReg_search.fit(x_test,y_test)"
   ]
  },
  {
   "cell_type": "code",
   "execution_count": 75,
   "id": "945fcf87",
   "metadata": {},
   "outputs": [
    {
     "data": {
      "text/plain": [
       "{'C': 0.1, 'penalty': 'l2', 'solver': 'newton-cg'}"
      ]
     },
     "execution_count": 75,
     "metadata": {},
     "output_type": "execute_result"
    }
   ],
   "source": [
    "logReg_search.best_params_"
   ]
  },
  {
   "cell_type": "code",
   "execution_count": 76,
   "id": "f76bbbde",
   "metadata": {},
   "outputs": [],
   "source": [
    "logreg = LogisticRegression(**logReg_search.best_params_)\n",
    "logreg.fit(x_train,y_train)\n",
    "y_pred = logreg.predict(x_test)"
   ]
  },
  {
   "cell_type": "code",
   "execution_count": 77,
   "id": "39ca366e",
   "metadata": {},
   "outputs": [
    {
     "name": "stdout",
     "output_type": "stream",
     "text": [
      "Classification report for test data is : \n",
      "               precision    recall  f1-score   support\n",
      "\n",
      "           0       0.75      0.93      0.83       274\n",
      "           1       0.79      0.47      0.59       156\n",
      "\n",
      "    accuracy                           0.76       430\n",
      "   macro avg       0.77      0.70      0.71       430\n",
      "weighted avg       0.77      0.76      0.74       430\n",
      "\n"
     ]
    }
   ],
   "source": [
    "print('Classification report for test data is : \\n',\n",
    "      classification_report(y_test, y_pred))"
   ]
  },
  {
   "cell_type": "markdown",
   "id": "7922a8c5",
   "metadata": {},
   "source": [
    "Here also we see no major improvements"
   ]
  },
  {
   "cell_type": "markdown",
   "id": "c2a5669e",
   "metadata": {},
   "source": [
    "# RESULT"
   ]
  },
  {
   "cell_type": "markdown",
   "id": "c32ca995",
   "metadata": {},
   "source": [
    "Both Gradient Boosting and Random forest after hyperparameter tuning gives us an accuracy of 80% which is the highest compared to other models tested"
   ]
  },
  {
   "cell_type": "code",
   "execution_count": null,
   "id": "7bf46755",
   "metadata": {},
   "outputs": [],
   "source": []
  }
 ],
 "metadata": {
  "kernelspec": {
   "display_name": "Python 3",
   "language": "python",
   "name": "python3"
  },
  "language_info": {
   "codemirror_mode": {
    "name": "ipython",
    "version": 3
   },
   "file_extension": ".py",
   "mimetype": "text/x-python",
   "name": "python",
   "nbconvert_exporter": "python",
   "pygments_lexer": "ipython3",
   "version": "3.8.8"
  }
 },
 "nbformat": 4,
 "nbformat_minor": 5
}
